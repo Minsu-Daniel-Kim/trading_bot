{
 "cells": [
  {
   "cell_type": "code",
   "execution_count": 1,
   "metadata": {},
   "outputs": [
    {
     "name": "stderr",
     "output_type": "stream",
     "text": [
      "/Users/Daniel/anaconda3/envs/carnegie/lib/python2.7/site-packages/matplotlib/cbook/deprecation.py:106: MatplotlibDeprecationWarning: The finance module has been deprecated in mpl 2.0 and will be removed in mpl 2.2. Please use the module mpl_finance instead.\n",
      "  warnings.warn(message, mplDeprecation, stacklevel=1)\n"
     ]
    }
   ],
   "source": [
    "from binance.client import Client\n",
    "import pandas as pd\n",
    "import matplotlib.pyplot as plt\n",
    "from pymongo import MongoClient\n",
    "import numpy as np\n",
    "import matplotlib.pyplot as plt\n",
    "from matplotlib.finance import candlestick_ohlc\n",
    "import matplotlib.dates as mdates\n",
    "import datetime\n",
    "from matplotlib.finance import candlestick_ohlc, candlestick2_ohlc"
   ]
  },
  {
   "cell_type": "code",
   "execution_count": 2,
   "metadata": {},
   "outputs": [],
   "source": [
    "api_key = '8h0dbjBU8wkx6iqgHZT0dnVHdvuOHwENJBvteURTFh1QpbwNYn6DSHBaMx6ePJHa'\n",
    "api_secret = 'DdwShMR2JK5sCrhRgygTlkc4sVCSZnLXHy84FJIifnuxTgokXOKDenZ7OLaFnzqs'"
   ]
  },
  {
   "cell_type": "code",
   "execution_count": 3,
   "metadata": {},
   "outputs": [],
   "source": [
    "client = Client(api_key, api_secret)"
   ]
  },
  {
   "cell_type": "code",
   "execution_count": 102,
   "metadata": {},
   "outputs": [],
   "source": [
    "candles = client.get_historical_klines('ETHUSDT', Client.KLINE_INTERVAL_3MINUTE, \"2 day ago UTC\")"
   ]
  },
  {
   "cell_type": "code",
   "execution_count": 101,
   "metadata": {},
   "outputs": [
    {
     "data": {
      "text/plain": [
       "2880"
      ]
     },
     "execution_count": 101,
     "metadata": {},
     "output_type": "execute_result"
    }
   ],
   "source": [
    "len(candles)"
   ]
  },
  {
   "cell_type": "code",
   "execution_count": 10,
   "metadata": {},
   "outputs": [],
   "source": [
    "candles = client.get_historical_klines('ETHUSDT', Client.KLINE_INTERVAL_1MINUTE, \"10 hour ago UTC\")\n",
    "col_names = ['open_time', 'open', 'high', 'low', 'close', 'volume', 'close_time', 'quote_asset_volume', 'n_trades', 'taker_buy_base_volume', 'taker_buy_quote_volume']\n",
    "lst = []\n",
    "for candle in candles:\n",
    "    lst.append(dict(zip(col_names, candle)))\n",
    "data = pd.DataFrame(lst)\n",
    "data['open_time'] = pd.to_datetime(data['open_time'], unit='ms').dt.tz_localize('UTC').dt.tz_convert('Asia/Seoul')\n",
    "data['close_time'] = pd.to_datetime(data['close_time'], unit='ms').dt.tz_localize('UTC').dt.tz_convert('Asia/Seoul')\n",
    "data = data.set_index('open_time')\n",
    "data.index = pd.to_datetime(data.index, \"%Y-%m-%d %h:%m%s\")\n",
    "data = data[['open', 'close', 'high', 'low', 'volume', 'taker_buy_base_volume']]\n",
    "data['sell'] = data.volume.astype(np.float64) - data.taker_buy_base_volume.astype(np.float64)\n",
    "\n",
    "data['low'] = data.low.astype(np.float64)\n",
    "data['high'] = data.high.astype(np.float64)\n",
    "data['close'] = data.close.astype(np.float64)\n",
    "data['open'] = data.open.astype(np.float64)\n",
    "data['volume'] = data.volume.astype(np.float64)\n",
    "data['taker_buy_base_volume'] = data.taker_buy_base_volume.astype(np.float64)\n",
    "data['sell'] = data.sell.astype(np.float64)"
   ]
  },
  {
   "cell_type": "code",
   "execution_count": 75,
   "metadata": {},
   "outputs": [],
   "source": [
    "client = MongoClient(\"mongodb://mongo-7a3e43c9-1.bf9bfd39.cont.dockerapp.io:32794\")\n",
    "client.database_names()\n",
    "full_set = pd.DataFrame(list(client.Binance['klines_BTCUSDT_1h'].find()))"
   ]
  },
  {
   "cell_type": "code",
   "execution_count": 138,
   "metadata": {},
   "outputs": [],
   "source": [
    "def algo1(df, delta_n=5):\n",
    "\n",
    "    lst = []\n",
    "    \n",
    "    open_series = df[['c_p']]\n",
    "#     print(open_series)\n",
    "\n",
    "    for idx in range(len(open_series['c_p']) - delta_n):\n",
    "        selected = open_series['c_p'][idx:idx+(delta_n+1)].values\n",
    "        sorted_val = np.sort(selected[1:])\n",
    "        lst.append(np.mean(sorted_val[1:delta_n-1]) - selected[0])\n",
    "\n",
    "    df['y'] = np.append(lst, [np.nan] * delta_n)\n",
    "    sub_set = df[['o_t', 'c_p', 'o_p', 'y']]\n",
    "    sub_set['c_p'] = sub_set['c_p'].astype(np.float)\n",
    "    sub_set['o_p'] = sub_set['o_p'].astype(np.float)\n",
    "    sub_set['temp'] = 1\n",
    "    sub_set['temp'][sub_set.y < 0] = 0\n",
    "    sub_set['signal'] = np.append([0], np.negative(np.diff(sub_set.temp)))\n",
    "    return sub_set\n"
   ]
  },
  {
   "cell_type": "code",
   "execution_count": 139,
   "metadata": {},
   "outputs": [],
   "source": [
    "def simul(sub_set):\n",
    "    profit = np.sum(sub_set['o_p'] * sub_set['signal'])\n",
    "    return profit"
   ]
  },
  {
   "cell_type": "code",
   "execution_count": 140,
   "metadata": {},
   "outputs": [
    {
     "name": "stderr",
     "output_type": "stream",
     "text": [
      "/Users/Daniel/anaconda3/envs/carnegie/lib/python2.7/site-packages/ipykernel_launcher.py:15: SettingWithCopyWarning: \n",
      "A value is trying to be set on a copy of a slice from a DataFrame.\n",
      "Try using .loc[row_indexer,col_indexer] = value instead\n",
      "\n",
      "See the caveats in the documentation: http://pandas.pydata.org/pandas-docs/stable/indexing.html#indexing-view-versus-copy\n",
      "  from ipykernel import kernelapp as app\n",
      "/Users/Daniel/anaconda3/envs/carnegie/lib/python2.7/site-packages/ipykernel_launcher.py:16: SettingWithCopyWarning: \n",
      "A value is trying to be set on a copy of a slice from a DataFrame.\n",
      "Try using .loc[row_indexer,col_indexer] = value instead\n",
      "\n",
      "See the caveats in the documentation: http://pandas.pydata.org/pandas-docs/stable/indexing.html#indexing-view-versus-copy\n",
      "  app.launch_new_instance()\n",
      "/Users/Daniel/anaconda3/envs/carnegie/lib/python2.7/site-packages/ipykernel_launcher.py:17: SettingWithCopyWarning: \n",
      "A value is trying to be set on a copy of a slice from a DataFrame.\n",
      "Try using .loc[row_indexer,col_indexer] = value instead\n",
      "\n",
      "See the caveats in the documentation: http://pandas.pydata.org/pandas-docs/stable/indexing.html#indexing-view-versus-copy\n",
      "/Users/Daniel/anaconda3/envs/carnegie/lib/python2.7/site-packages/ipykernel_launcher.py:18: SettingWithCopyWarning: \n",
      "A value is trying to be set on a copy of a slice from a DataFrame\n",
      "\n",
      "See the caveats in the documentation: http://pandas.pydata.org/pandas-docs/stable/indexing.html#indexing-view-versus-copy\n",
      "/Users/Daniel/anaconda3/envs/carnegie/lib/python2.7/site-packages/ipykernel_launcher.py:1: SettingWithCopyWarning: \n",
      "A value is trying to be set on a copy of a slice from a DataFrame\n",
      "\n",
      "See the caveats in the documentation: http://pandas.pydata.org/pandas-docs/stable/indexing.html#indexing-view-versus-copy\n",
      "  \"\"\"Entry point for launching an IPython kernel.\n",
      "/Users/Daniel/anaconda3/envs/carnegie/lib/python2.7/site-packages/ipykernel_launcher.py:19: SettingWithCopyWarning: \n",
      "A value is trying to be set on a copy of a slice from a DataFrame.\n",
      "Try using .loc[row_indexer,col_indexer] = value instead\n",
      "\n",
      "See the caveats in the documentation: http://pandas.pydata.org/pandas-docs/stable/indexing.html#indexing-view-versus-copy\n"
     ]
    }
   ],
   "source": [
    "sub_set = algo1(full_set)"
   ]
  },
  {
   "cell_type": "code",
   "execution_count": 141,
   "metadata": {},
   "outputs": [
    {
     "data": {
      "text/plain": [
       "-22714.849999999984"
      ]
     },
     "execution_count": 141,
     "metadata": {},
     "output_type": "execute_result"
    }
   ],
   "source": [
    "simul(sub_set)"
   ]
  },
  {
   "cell_type": "code",
   "execution_count": null,
   "metadata": {},
   "outputs": [],
   "source": [
    "# def algo1():\n",
    "#     full_set['c_p'] = full_set['c_p'].astype(np.float)\n",
    "#     sub_set['o_p'] = sub_set['o_p'].astype(np.float64)\n",
    "#     full_set_aug = generate_df(full_set)\n",
    "#     sub_set = full_set_aug[['o_t', 'c_p', 'o_p', 'y']]\n",
    "#     sub_set['signal'] = 1\n",
    "#     sub_set['signal'][sub_set.y < 0] = 0\n",
    "#     sub_set['diff'] = np.append([0], np.negative(np.diff(sub_set.signal)))\n",
    "#     return sub_set\n"
   ]
  },
  {
   "cell_type": "code",
   "execution_count": null,
   "metadata": {},
   "outputs": [],
   "source": []
  }
 ],
 "metadata": {
  "kernelspec": {
   "display_name": "Python 2",
   "language": "python",
   "name": "python2"
  },
  "language_info": {
   "codemirror_mode": {
    "name": "ipython",
    "version": 2
   },
   "file_extension": ".py",
   "mimetype": "text/x-python",
   "name": "python",
   "nbconvert_exporter": "python",
   "pygments_lexer": "ipython2",
   "version": "2.7.14"
  }
 },
 "nbformat": 4,
 "nbformat_minor": 2
}
